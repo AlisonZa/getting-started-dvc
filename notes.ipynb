{
 "cells": [
  {
   "cell_type": "markdown",
   "metadata": {},
   "source": [
    "Organizes images, audio, files, video and text in **storage** and organize your ml modeling into a **reproductible** workflow\n",
    "\n",
    "**✨ Basic Uses of DVC**\n",
    "\n",
    "If you store and process data files 📂 or datasets 📊 to produce other data or machine learning models 🤖, and you want to:\n",
    "\n",
    "📝 Track and save data and ML models just like you do with code;\n",
    "\n",
    "🔄 Create and switch between versions of data and ML models easily;\n",
    "\n",
    "🔍 Understand how datasets and ML artifacts were built in the first place;\n",
    "\n",
    "📊 Compare model metrics among experiments;\n",
    "\n",
    "🛠️ Adopt engineering tools and best practices in data science projects;\n"
   ]
  },
  {
   "cell_type": "markdown",
   "metadata": {},
   "source": [
    "Create the folder data, and but (duh) the data in there"
   ]
  },
  {
   "cell_type": "code",
   "execution_count": 2,
   "metadata": {},
   "outputs": [
    {
     "name": "stdout",
     "output_type": "stream",
     "text": [
      "Initialized empty Git repository in C:/Users/Marina/Desktop/ML Operations/0 - KrishNaik Course/9 - Getting Started With DVC - Data Version Control/.git/\n"
     ]
    }
   ],
   "source": [
    "! git init"
   ]
  },
  {
   "cell_type": "code",
   "execution_count": 3,
   "metadata": {},
   "outputs": [
    {
     "name": "stdout",
     "output_type": "stream",
     "text": [
      "Initialized DVC repository.\n",
      "\n",
      "You can now commit the changes to git.\n",
      "\n",
      "+---------------------------------------------------------------------+\n",
      "|                                                                     |\n",
      "|        DVC has enabled anonymous aggregate usage analytics.         |\n",
      "|     Read the analytics documentation (and how to opt-out) here:     |\n",
      "|             <https://dvc.org/doc/user-guide/analytics>              |\n",
      "|                                                                     |\n",
      "+---------------------------------------------------------------------+\n",
      "\n",
      "What's next?\n",
      "------------\n",
      "- Check out the documentation: <https://dvc.org/doc>\n",
      "- Get help and share ideas: <https://dvc.org/chat>\n",
      "- Star us on GitHub: <https://github.com/iterative/dvc>\n"
     ]
    }
   ],
   "source": [
    "! dvc init"
   ]
  },
  {
   "cell_type": "markdown",
   "metadata": {},
   "source": [
    "Existe um gitinore dentro da pasta do .dvc,"
   ]
  },
  {
   "cell_type": "code",
   "execution_count": 4,
   "metadata": {},
   "outputs": [
    {
     "name": "stdout",
     "output_type": "stream",
     "text": [
      "On branch master\n",
      "\n",
      "No commits yet\n",
      "\n",
      "Changes to be committed:\n",
      "  (use \"git rm --cached <file>...\" to unstage)\n",
      "\tnew file:   .dvc/.gitignore\n",
      "\tnew file:   .dvc/config\n",
      "\tnew file:   .dvcignore\n",
      "\n",
      "Untracked files:\n",
      "  (use \"git add <file>...\" to include in what will be committed)\n",
      "\t.gitignore\n",
      "\t0 - gabarito/\n",
      "\tdata/\n",
      "\tnotes.ipynb\n",
      "\n"
     ]
    }
   ],
   "source": [
    "! git status"
   ]
  },
  {
   "cell_type": "markdown",
   "metadata": {},
   "source": [
    "Faça o Git commit"
   ]
  },
  {
   "cell_type": "code",
   "execution_count": 5,
   "metadata": {},
   "outputs": [
    {
     "name": "stdout",
     "output_type": "stream",
     "text": [
      "branch 'main' set up to track 'origin/main'."
     ]
    },
    {
     "name": "stderr",
     "output_type": "stream",
     "text": [
      "To https://github.com/AlisonZa/getting-started-dvc\n",
      " * [new branch]      main -> main\n"
     ]
    },
    {
     "name": "stdout",
     "output_type": "stream",
     "text": [
      "\n"
     ]
    }
   ],
   "source": [
    "# Linking the git with the created repo\n",
    "! git remote add origin https://github.com/AlisonZa/getting-started-dvc\n",
    "! git branch -M main\n",
    "! git push -u origin main"
   ]
  },
  {
   "cell_type": "code",
   "execution_count": 6,
   "metadata": {},
   "outputs": [
    {
     "name": "stdout",
     "output_type": "stream",
     "text": [
      "usage: dvc [-q | -v] [-h] [-V] [--cd <path>] command ...\n",
      "\n",
      "Data Version Control\n",
      "\n",
      "options:\n",
      "  -q, --quiet        Be quiet.\n",
      "  -v, --verbose      Be verbose.\n",
      "  -h, --help         Show this help message and exit.\n",
      "  -V, --version      Show program's version.\n",
      "  --cd <path>        Change to directory before executing.\n",
      "\n",
      "Available Commands:\n",
      "  command            Use `dvc command --help` for command-specific help.\n",
      "    add              Track data files or directories with DVC.\n",
      "    artifacts        DVC model registry artifact commands.\n",
      "    cache            Manage cache settings.\n",
      "    check-ignore     Check whether files or directories are excluded due to `.dvcignore`.\n",
      "    checkout         Checkout data files from cache.\n",
      "    commit           Record changes to files or directories tracked by DVC by storing the current versions in the cache.\n",
      "    completion       Generate shell tab completion.\n",
      "    config           Get or set config options.\n",
      "    dag              Visualize DVC project DAG.\n",
      "    pull             Download tracked files or directories from remote storage.\n",
      "    push             Upload tracked files or directories to remote storage.\n",
      "    fetch            Download files or directories from remote storage to the cache.\n",
      "    status           Show changed stages, compare local cache and a remote storage.\n",
      "    destroy          Remove DVC files, local DVC config and data cache.\n",
      "    diff             Show added, modified, or deleted data between commits in the DVC repository, or between a commit and the workspace.\n",
      "    du               Show disk usage.\n",
      "    experiments (exp)\n",
      "                     Commands to run and compare experiments.\n",
      "    freeze           Freeze stages or .dvc files.\n",
      "    unfreeze         Unfreeze stages or .dvc files.\n",
      "    gc               Garbage collect unused objects from cache or remote storage.\n",
      "    get              Download file or directory tracked by DVC or by Git.\n",
      "    get-url          Download or copy files from URL.\n",
      "    import           Download file or directory tracked by DVC or by Git into the workspace, and track it.\n",
      "    import-db        Snapshot a table or a SQL query result to a CSV/JSON format\n",
      "    import-url       Download or copy file from URL and take it under DVC control.\n",
      "    init             Initialize DVC in the current directory.\n",
      "    install          Install DVC git hooks into the repository.\n",
      "    list (ls)        List repository contents, including files and directories tracked by DVC and by Git.\n",
      "    list-url (ls-url)\n",
      "                     List directory contents from URL.\n",
      "    metrics          Commands to display and compare metrics.\n",
      "    move (mv)        Rename or move a DVC controlled data file or a directory.\n",
      "    params           Commands to display params.\n",
      "    plots            Commands to visualize and compare plot data.\n",
      "    queue            Commands to manage experiments queue.\n",
      "    remote           Set up and manage data remotes.\n",
      "    remove (rm)      Remove stages from dvc.yaml and/or stop tracking files or directories.\n",
      "    repro            Reproduce complete or partial pipelines by executing their stages.\n",
      "    root             Return the relative path to the root of the DVC project.\n",
      "    stage            Commands to list and create stages.\n",
      "    studio           Commands to authenticate DVC with Iterative Studio\n",
      "    unprotect        Unprotect tracked files or directories (when hardlinks or symlinks have been enabled with `dvc config cache.type`).\n",
      "    update           Update data artifact imported (via dvc import or dvc import-url) from an external DVC repository or URL.\n",
      "    version (doctor)\n",
      "                     Display the DVC version and system/environment information.\n"
     ]
    },
    {
     "name": "stderr",
     "output_type": "stream",
     "text": [
      "ERROR: argument command: invalid choice: 'data/data.txt' (choose from 'add', 'artifacts', 'cache', 'check-ignore', 'checkout', 'commit', 'completion', 'config', 'daemon', 'dag', 'data', 'pull', 'push', 'fetch', 'status', 'dataset', 'ds', 'destroy', 'diff', 'du', 'experiments', 'exp', 'freeze', 'unfreeze', 'gc', 'get', 'get-url', 'git-hook', 'import', 'import-db', 'test-db', 'import-url', 'init', 'install', 'list', 'ls', 'list-url', 'ls-url', 'metrics', 'move', 'mv', 'params', 'plots', 'queue', 'remote', 'remove', 'rm', 'repro', 'root', 'stage', 'studio', 'unprotect', 'update', 'version', 'doctor')\n"
     ]
    }
   ],
   "source": [
    "# adicionando o arquivo dos dados\n",
    "! dvc data/data.txt"
   ]
  },
  {
   "cell_type": "markdown",
   "metadata": {},
   "source": []
  },
  {
   "cell_type": "markdown",
   "metadata": {},
   "source": []
  }
 ],
 "metadata": {
  "kernelspec": {
   "display_name": "ml_ops",
   "language": "python",
   "name": "python3"
  },
  "language_info": {
   "codemirror_mode": {
    "name": "ipython",
    "version": 3
   },
   "file_extension": ".py",
   "mimetype": "text/x-python",
   "name": "python",
   "nbconvert_exporter": "python",
   "pygments_lexer": "ipython3",
   "version": "3.12.0"
  }
 },
 "nbformat": 4,
 "nbformat_minor": 2
}
